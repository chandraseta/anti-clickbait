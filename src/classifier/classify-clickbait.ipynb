{
 "cells": [
  {
   "cell_type": "code",
   "execution_count": null,
   "metadata": {},
   "outputs": [],
   "source": [
    "# Install a pip package in the current Jupyter kernel\n",
    "import sys\n",
    "!{sys.executable} -m pip install sastrawi --user"
   ]
  },
  {
   "cell_type": "code",
   "execution_count": 1,
   "metadata": {},
   "outputs": [],
   "source": [
    "import re\n",
    "import pandas as pd\n",
    "from sklearn.feature_extraction.text import CountVectorizer\n",
    "from sklearn.pipeline import Pipeline\n",
    "from sklearn.ensemble import RandomForestClassifier\n",
    "from sklearn.model_selection import train_test_split, cross_val_predict\n",
    "from sklearn.metrics import confusion_matrix, accuracy_score\n",
    "from Sastrawi.Stemmer.Stemmer import Stemmer\n",
    "from Sastrawi.Stemmer.StemmerFactory import StemmerFactory\n",
    "from Sastrawi.Dictionary.ArrayDictionary import ArrayDictionary"
   ]
  },
  {
   "cell_type": "code",
   "execution_count": 2,
   "metadata": {},
   "outputs": [],
   "source": [
    "df = pd.read_csv('../../data/kompas-titles.csv')"
   ]
  },
  {
   "cell_type": "code",
   "execution_count": 14,
   "metadata": {},
   "outputs": [],
   "source": [
    "class CustomTokenizer(object):\n",
    "    def __init__(self, allowed_punctuations=[], should_stem=True, extra_stemmer_words=[]):\n",
    "        self.should_stem = should_stem\n",
    "        if should_stem:\n",
    "            factory = StemmerFactory()\n",
    "            dictionary = ArrayDictionary(factory.get_words())\n",
    "            dictionary.add_words(extra_stemmer_words)\n",
    "            self.stemmer = Stemmer(dictionary)\n",
    "        self.allowed_punctuations = allowed_punctuations\n",
    "\n",
    "    def __call__(self, doc):\n",
    "        tokens = re.findall(r\"(?u)\\b\\w\\w+\\b|\" + '\\\\' + '|\\\\'.join(self.allowed_punctuations), doc)\n",
    "        processed_tokens = []\n",
    "        for t in tokens:\n",
    "            if self.should_stem and t not in self.allowed_punctuations:\n",
    "                processed_tokens.append(self.stemmer.stem(t))\n",
    "            else:\n",
    "                processed_tokens.append(t)\n",
    "        return processed_tokens"
   ]
  },
  {
   "cell_type": "code",
   "execution_count": 4,
   "metadata": {},
   "outputs": [],
   "source": [
    "allowed_punctuations = ['!', '?', '\"', \"'\"]\n",
    "extra_stemmer_words = ['asian', 'games']\n",
    "stop_words = ['yang', 'dan', 'atau', 'di', 'ke', 'dari', 'itu', 'ini', 'satu', 'dua', 'tiga', 'empat', 'lima', 'enam', 'tujuh', 'delapan', 'sembilan', 'sepuluh', 'sebelas', 'belas']"
   ]
  },
  {
   "cell_type": "code",
   "execution_count": 11,
   "metadata": {},
   "outputs": [],
   "source": [
    "def create_pipeline(classifier):\n",
    "    tokenizer=CustomTokenizer(allowed_punctuations=allowed_punctuations, should_stem=False, extra_stemmer_words=extra_stemmer_words)\n",
    "    count_vectorizer = CountVectorizer(tokenizer=tokenizer, analyzer='word', stop_words=stop_words)\n",
    "    return Pipeline((\n",
    "        ('count_vectorizer', count_vectorizer),\n",
    "        ('classifier', classifier),\n",
    "    ))"
   ]
  },
  {
   "cell_type": "code",
   "execution_count": 12,
   "metadata": {},
   "outputs": [],
   "source": [
    "def evaluate(name, clf, x, y, cv=5):\n",
    "    print('Evaluating %s...' % name)\n",
    "    pipeline = create_pipeline(clf)\n",
    "    y_predicted = cross_val_predict(pipeline, x, y, cv=cv)\n",
    "    score = accuracy_score(y, y_predicted)\n",
    "    cm = confusion_matrix(y, y_predicted)\n",
    "    print('Accuracy: %f' % score)\n",
    "    print('Confusion matrix:')\n",
    "    print(cm)"
   ]
  },
  {
   "cell_type": "code",
   "execution_count": 22,
   "metadata": {},
   "outputs": [
    {
     "name": "stdout",
     "output_type": "stream",
     "text": [
      "Evaluating Random Forest...\n",
      "Accuracy: 0.655640\n",
      "Confusion matrix:\n",
      "[[1257  163]\n",
      " [ 701  388]]\n"
     ]
    }
   ],
   "source": [
    "clf = RandomForestClassifier(n_estimators=50)\n",
    "evaluate('Random Forest', clf, df.titles, df.labels)"
   ]
  },
  {
   "cell_type": "code",
   "execution_count": null,
   "metadata": {},
   "outputs": [],
   "source": []
  },
  {
   "cell_type": "code",
   "execution_count": null,
   "metadata": {},
   "outputs": [],
   "source": []
  }
 ],
 "metadata": {
  "kernelspec": {
   "display_name": "Python 3",
   "language": "python",
   "name": "python3"
  },
  "language_info": {
   "codemirror_mode": {
    "name": "ipython",
    "version": 3
   },
   "file_extension": ".py",
   "mimetype": "text/x-python",
   "name": "python",
   "nbconvert_exporter": "python",
   "pygments_lexer": "ipython3",
   "version": "3.6.5"
  }
 },
 "nbformat": 4,
 "nbformat_minor": 2
}
